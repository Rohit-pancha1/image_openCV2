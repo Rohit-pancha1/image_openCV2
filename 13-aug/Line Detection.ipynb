{
 "cells": [
  {
   "cell_type": "code",
   "execution_count": 1,
   "id": "83c36e57-cefd-4e08-8457-1d1e2454dcbe",
   "metadata": {},
   "outputs": [],
   "source": [
    "import cv2\n",
    "import numpy as np\n",
    "import matplotlib.pyplot as plt"
   ]
  },
  {
   "cell_type": "code",
   "execution_count": 2,
   "id": "73b4aede-ba91-4fe7-abc4-52f149bbd98b",
   "metadata": {},
   "outputs": [],
   "source": [
    "image = cv2.imread('road.jpg')"
   ]
  },
  {
   "cell_type": "code",
   "execution_count": 4,
   "id": "022b0900-3b3f-48f8-b88b-192fe78f5643",
   "metadata": {},
   "outputs": [],
   "source": [
    "gray = cv2.cvtColor(image, cv2.COLOR_BGR2GRAY)"
   ]
  },
  {
   "cell_type": "code",
   "execution_count": 5,
   "id": "9e9189e2-d931-47d2-b99f-1d2e8ce5064a",
   "metadata": {},
   "outputs": [],
   "source": [
    "edges = cv2.Canny(gray, 50, 150, apertureSize=3)"
   ]
  },
  {
   "cell_type": "code",
   "execution_count": 6,
   "id": "181e734d-e9e6-45dd-9d46-4181bae12c76",
   "metadata": {},
   "outputs": [],
   "source": [
    "# Hough Line Transform\n",
    "lines = cv2.HoughLines(edges, 1, np.pi/180, 200)"
   ]
  },
  {
   "cell_type": "code",
   "execution_count": 7,
   "id": "5646f514-2acc-4362-8b11-5ac74c81ba7e",
   "metadata": {},
   "outputs": [],
   "source": [
    "for line in lines:\n",
    "    rho, theta = line[0]\n",
    "    a = np.cos(theta)\n",
    "    b = np.sin(theta)\n",
    "    x0 = a * rho\n",
    "    y0 = b * rho\n",
    "    x1 = int(x0 + 1000 * (-b))\n",
    "    y1 = int(y0 + 1000 * (a))\n",
    "    x2 = int(x0 - 1000 * (-b))\n",
    "    y2 = int(y0 - 1000 * (a))"
   ]
  },
  {
   "cell_type": "code",
   "execution_count": null,
   "id": "ce6039be-e91c-4efd-9357-50c2322ea54c",
   "metadata": {},
   "outputs": [],
   "source": []
  }
 ],
 "metadata": {
  "kernelspec": {
   "display_name": "Python 3 (ipykernel)",
   "language": "python",
   "name": "python3"
  },
  "language_info": {
   "codemirror_mode": {
    "name": "ipython",
    "version": 3
   },
   "file_extension": ".py",
   "mimetype": "text/x-python",
   "name": "python",
   "nbconvert_exporter": "python",
   "pygments_lexer": "ipython3",
   "version": "3.12.3"
  }
 },
 "nbformat": 4,
 "nbformat_minor": 5
}

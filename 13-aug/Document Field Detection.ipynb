{
 "cells": [
  {
   "cell_type": "markdown",
   "id": "1d585d75-c0fb-4e1d-a776-5c1e01340055",
   "metadata": {},
   "source": [
    "## Document Field Detection"
   ]
  },
  {
   "cell_type": "code",
   "execution_count": 1,
   "id": "ea2c2dc1-5a6c-4cfc-ac11-fce164fc4455",
   "metadata": {},
   "outputs": [],
   "source": [
    "import cv2\n",
    "import numpy as np\n",
    "import matplotlib.pyplot as plt"
   ]
  },
  {
   "cell_type": "code",
   "execution_count": 4,
   "id": "a044667f-cfc9-472f-b205-b7b90459c30c",
   "metadata": {},
   "outputs": [],
   "source": [
    "template = cv2.imread('field_template1.jpg', 0)\n",
    "document = cv2.imread('document.jpg', 0)"
   ]
  },
  {
   "cell_type": "code",
   "execution_count": 5,
   "id": "619de3ae-eb60-4096-9ff1-840ee2be27a9",
   "metadata": {},
   "outputs": [],
   "source": [
    "# Template Matching\n",
    "result = cv2.matchTemplate(document, template, cv2.TM_CCOEFF_NORMED)\n",
    "min_val, max_val, min_loc, max_loc = cv2.minMaxLoc(result)"
   ]
  },
  {
   "cell_type": "code",
   "execution_count": 6,
   "id": "bcc51848-975d-4353-a7ef-4323a8b4f9a8",
   "metadata": {},
   "outputs": [],
   "source": [
    "# Draw Rectangle\n",
    "top_left = max_loc"
   ]
  },
  {
   "cell_type": "code",
   "execution_count": 7,
   "id": "e72aa4ed-3598-4c65-a6d2-b323af8b8295",
   "metadata": {},
   "outputs": [],
   "source": [
    "h, w = template.shape"
   ]
  },
  {
   "cell_type": "code",
   "execution_count": 8,
   "id": "94c92982-7373-4861-b5af-ebc0050ae4d1",
   "metadata": {},
   "outputs": [],
   "source": [
    "bottom_right = (top_left[0] + w, top_left[1] + h)"
   ]
  },
  {
   "cell_type": "code",
   "execution_count": null,
   "id": "3e48c4fa-e4de-4599-ba36-fff12aaa9a01",
   "metadata": {},
   "outputs": [],
   "source": []
  }
 ],
 "metadata": {
  "kernelspec": {
   "display_name": "Python 3 (ipykernel)",
   "language": "python",
   "name": "python3"
  },
  "language_info": {
   "codemirror_mode": {
    "name": "ipython",
    "version": 3
   },
   "file_extension": ".py",
   "mimetype": "text/x-python",
   "name": "python",
   "nbconvert_exporter": "python",
   "pygments_lexer": "ipython3",
   "version": "3.12.3"
  }
 },
 "nbformat": 4,
 "nbformat_minor": 5
}

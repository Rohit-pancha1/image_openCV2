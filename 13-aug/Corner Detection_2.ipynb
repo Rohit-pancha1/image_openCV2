{
 "cells": [
  {
   "cell_type": "code",
   "execution_count": null,
   "id": "2e24c8c0-1be0-45a2-bb7a-1ea1d2551ecb",
   "metadata": {},
   "outputs": [],
   "source": []
  }
 ],
 "metadata": {
  "kernelspec": {
   "display_name": "",
   "name": ""
  },
  "language_info": {
   "name": ""
  }
 },
 "nbformat": 4,
 "nbformat_minor": 5
}
